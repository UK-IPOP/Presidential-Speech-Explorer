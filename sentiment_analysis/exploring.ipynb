{
 "cells": [
  {
   "cell_type": "code",
   "execution_count": 4,
   "metadata": {},
   "outputs": [],
   "source": [
    "# Import librairies\n",
    "\n",
    "import pandas as pd\n",
    "from textblob import TextBlob\n",
    "from tqdm import tqdm\n",
    "from tableone import TableOne\n",
    "\n",
    "tqdm.pandas()"
   ]
  },
  {
   "cell_type": "code",
   "execution_count": 97,
   "metadata": {},
   "outputs": [
    {
     "name": "stdout",
     "output_type": "stream",
     "text": [
      "(151494, 6)\n"
     ]
    }
   ],
   "source": [
    "# Read in CSV file and change date to pandas datetime\n",
    "\n",
    "df = pd.read_csv(\"../polars_speeches.csv\", low_memory=False)\n",
    "df['date'] = pd.to_datetime(df['date'])\n",
    "print(df.shape)"
   ]
  },
  {
   "cell_type": "code",
   "execution_count": 98,
   "metadata": {},
   "outputs": [
    {
     "data": {
      "text/plain": [
       "row_nr        0\n",
       "person        2\n",
       "title         2\n",
       "date         34\n",
       "content    2528\n",
       "url           0\n",
       "dtype: int64"
      ]
     },
     "execution_count": 98,
     "metadata": {},
     "output_type": "execute_result"
    }
   ],
   "source": [
    "# Count the number of missing in each column\n",
    "\n",
    "df.isna().sum()"
   ]
  },
  {
   "cell_type": "code",
   "execution_count": 112,
   "metadata": {},
   "outputs": [
    {
     "data": {
      "text/plain": [
       "'https://www.presidency.ucsb.edu/documents/fact-sheet-united-states-government-nonproliferationthreat-reduction-assistance-russia'"
      ]
     },
     "execution_count": 112,
     "metadata": {},
     "output_type": "execute_result"
    }
   ],
   "source": [
    "# Use this block to locate the url\n",
    "\n",
    "df.loc[79995]['url']"
   ]
  },
  {
   "cell_type": "code",
   "execution_count": 100,
   "metadata": {},
   "outputs": [
    {
     "data": {
      "text/html": [
       "<div>\n",
       "<style scoped>\n",
       "    .dataframe tbody tr th:only-of-type {\n",
       "        vertical-align: middle;\n",
       "    }\n",
       "\n",
       "    .dataframe tbody tr th {\n",
       "        vertical-align: top;\n",
       "    }\n",
       "\n",
       "    .dataframe thead th {\n",
       "        text-align: right;\n",
       "    }\n",
       "</style>\n",
       "<table border=\"1\" class=\"dataframe\">\n",
       "  <thead>\n",
       "    <tr style=\"text-align: right;\">\n",
       "      <th></th>\n",
       "      <th>row_nr</th>\n",
       "      <th>person</th>\n",
       "      <th>title</th>\n",
       "      <th>date</th>\n",
       "      <th>content</th>\n",
       "      <th>url</th>\n",
       "    </tr>\n",
       "  </thead>\n",
       "  <tbody>\n",
       "    <tr>\n",
       "      <th>3515</th>\n",
       "      <td>3515</td>\n",
       "      <td>NaN</td>\n",
       "      <td>NaN</td>\n",
       "      <td>1854-01-19</td>\n",
       "      <td>This provision was vehemently and pertinacious...</td>\n",
       "      <td>https://www.presidency.ucsb.edu/documents/appe...</td>\n",
       "    </tr>\n",
       "    <tr>\n",
       "      <th>61156</th>\n",
       "      <td>61156</td>\n",
       "      <td>NaN</td>\n",
       "      <td>NaN</td>\n",
       "      <td>1994-09-27</td>\n",
       "      <td>NaN</td>\n",
       "      <td>https://www.presidency.ucsb.edu/documents/the-...</td>\n",
       "    </tr>\n",
       "  </tbody>\n",
       "</table>\n",
       "</div>"
      ],
      "text/plain": [
       "       row_nr person title       date  \\\n",
       "3515     3515    NaN   NaN 1854-01-19   \n",
       "61156   61156    NaN   NaN 1994-09-27   \n",
       "\n",
       "                                                 content  \\\n",
       "3515   This provision was vehemently and pertinacious...   \n",
       "61156                                                NaN   \n",
       "\n",
       "                                                     url  \n",
       "3515   https://www.presidency.ucsb.edu/documents/appe...  \n",
       "61156  https://www.presidency.ucsb.edu/documents/the-...  "
      ]
     },
     "execution_count": 100,
     "metadata": {},
     "output_type": "execute_result"
    }
   ],
   "source": [
    "df[df['person'].isna()]\n",
    "# df[df['title'].isna()]\n",
    "# df[df['date'].isna()]\n",
    "# df[df['date'].isna()].row_nr.values.tolist()"
   ]
  },
  {
   "cell_type": "code",
   "execution_count": 46,
   "metadata": {},
   "outputs": [],
   "source": [
    "# Create a dataframe of rows that had missing cells\n",
    "\n",
    "missing = df[df.isna().sum(axis=1) > 0]\n",
    "# missing.to_csv(\"missing.csv\", index=False)"
   ]
  },
  {
   "cell_type": "code",
   "execution_count": 73,
   "metadata": {},
   "outputs": [],
   "source": [
    "# Create functions to review the type of \n",
    "# speeches that had content missing\n",
    "\n",
    "def find_tweets(x:str):\n",
    "    if pd.isna(x):\n",
    "        return None\n",
    "    if \"tweets\" in x.lower():\n",
    "        return True\n",
    "    else:\n",
    "        return False\n",
    "\n",
    "def find_executive_order(x:str):\n",
    "    if pd.isna(x):\n",
    "        return None\n",
    "    if \"executive\" in x.lower():\n",
    "        return True\n",
    "    else:\n",
    "        return False\n",
    "\n",
    "def find_event_timeline(x:str):\n",
    "    if pd.isna(x):\n",
    "        return None\n",
    "    if \"event\" in x.lower():\n",
    "        return True\n",
    "    else:\n",
    "        return False\n",
    "    \n",
    "def find_fact_sheets(x:str):\n",
    "    if pd.isna(x):\n",
    "        return None\n",
    "    if \"fact sheet\" in x.lower():\n",
    "        return True\n",
    "    else:\n",
    "        return False\n",
    "\n",
    "def find_press_release(x:str):\n",
    "    if pd.isna(x):\n",
    "        return None\n",
    "    if \"press release\" in x.lower():\n",
    "        return True\n",
    "    else:\n",
    "        return False\n",
    "\n"
   ]
  },
  {
   "cell_type": "code",
   "execution_count": 74,
   "metadata": {},
   "outputs": [
    {
     "data": {
      "text/plain": [
       "333"
      ]
     },
     "execution_count": 74,
     "metadata": {},
     "output_type": "execute_result"
    }
   ],
   "source": [
    "# Specifically, pull out the row that had missing content\n",
    "\n",
    "content_missing = missing[missing[\"content\"].isna()]\n",
    "\n",
    "# Run this to pull out the list of rows/speeches that had content missing\n",
    "\n",
    "col_list = content_missing.row_nr.values.tolist()\n",
    "print(col_list)\n",
    "\n",
    "# Applying the functions created above, find the frequencies\n",
    "content_missing['title'].apply(lambda x: find_press_release(x)).sum()"
   ]
  },
  {
   "cell_type": "code",
   "execution_count": 19,
   "metadata": {},
   "outputs": [
    {
     "name": "stderr",
     "output_type": "stream",
     "text": [
      "100%|██████████| 151492/151492 [00:00<00:00, 1373726.60it/s]\n"
     ]
    },
    {
     "data": {
      "text/plain": [
       "0     John\n",
       "1     John\n",
       "2    James\n",
       "3    James\n",
       "4    James\n",
       "Name: person, dtype: object"
      ]
     },
     "execution_count": 19,
     "metadata": {},
     "output_type": "execute_result"
    }
   ],
   "source": [
    "first_names = df['person'].dropna().progress_apply(lambda x: x.split()[0])\n",
    "first_names[:5]"
   ]
  },
  {
   "cell_type": "code",
   "execution_count": 104,
   "metadata": {},
   "outputs": [
    {
     "data": {
      "text/plain": [
       "1.3844936708860758"
      ]
     },
     "execution_count": 104,
     "metadata": {},
     "output_type": "execute_result"
    }
   ],
   "source": [
    "(35/2528)*100"
   ]
  },
  {
   "cell_type": "code",
   "execution_count": null,
   "metadata": {},
   "outputs": [],
   "source": []
  }
 ],
 "metadata": {
  "kernelspec": {
   "display_name": "presidents",
   "language": "python",
   "name": "python3"
  },
  "language_info": {
   "codemirror_mode": {
    "name": "ipython",
    "version": 3
   },
   "file_extension": ".py",
   "mimetype": "text/x-python",
   "name": "python",
   "nbconvert_exporter": "python",
   "pygments_lexer": "ipython3",
   "version": "3.11.2"
  },
  "orig_nbformat": 4
 },
 "nbformat": 4,
 "nbformat_minor": 2
}
